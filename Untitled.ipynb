{
 "cells": [
  {
   "cell_type": "code",
   "execution_count": 4,
   "metadata": {},
   "outputs": [],
   "source": [
    "def factorielle(x):\n",
    "    if x < 2:\n",
    "        return 1\n",
    "    else:\n",
    "        return x * factorielle(x - 1)\n"
   ]
  },
  {
   "cell_type": "code",
   "execution_count": 12,
   "metadata": {},
   "outputs": [],
   "source": [
    "def combinaisonsString(L, N):\n",
    "    h = 0\n",
    "    i = 0\n",
    "    j = 0\n",
    "    n = [0] * (N - 1)\n",
    "    G = []\n",
    "    s = \"\"\n",
    "    k = len(L)-N\n",
    "    if len(L) < N:\n",
    "        return G\n",
    "    elif N == 1:\n",
    "        return L\n",
    "    elif len(L) == N:\n",
    "        while i < len(L):\n",
    "            s = s + L[i]\n",
    "            i = i + 1\n",
    "        G.append(s)\n",
    "        #print (\"G1:\",G)\n",
    "    elif len(L) > N:\n",
    "        l = factorielle(len(L) - 1)/(factorielle(N - 1)\n",
    "             * factorielle((len(L) - 1) - (N - 1)));\n",
    "        #print (\"l:\", l)\n",
    "        while i < l:\n",
    "            s = L[len(L) - 1]\n",
    "            while h < len(n):\n",
    "                if j > 0 and j < len(n):\n",
    "                    n[j] = n[j - 1] + 1\n",
    "                s = s + L[n[h]]\n",
    "                h = h + 1\n",
    "                j = j + 1\n",
    "            G.append(s) #<--------------\n",
    "            h = 0\n",
    "            j = 0\n",
    "            while j < len(n) and n[j] != j + k:\n",
    "                j = j + 1\n",
    "            if j > 0:\n",
    "                n[j - 1] = n[j - 1] + 1\n",
    "            i = i + 1\n",
    "        L.pop()\n",
    "        G = G + combinaisonsString(L, N)\n",
    "    return G\n",
    "\n"
   ]
  },
  {
   "cell_type": "code",
   "execution_count": 16,
   "metadata": {},
   "outputs": [
    {
     "name": "stdout",
     "output_type": "stream",
     "text": [
      "G4 = ['EABC', 'EABD', 'EACD', 'EBCD', 'ABCD']\n",
      "G3 = ['EAB', 'EAC', 'EAD', 'EBC', 'EBD', 'ECD', 'DAB', 'DAC', 'DBC', 'ABC']\n",
      "G2 = ['EA', 'EB', 'EC', 'ED', 'DA', 'DB', 'DC', 'CA', 'CB', 'AB']\n"
     ]
    }
   ],
   "source": [
    "L = [\"A\",\"B\",\"C\",\"D\",\"E\"]\n",
    "G4 = combinaisonsString(L, 4)\n",
    "L = [\"A\",\"B\",\"C\",\"D\",\"E\"]\n",
    "G3 = combinaisonsString(L, 3)\n",
    "L = [\"A\",\"B\",\"C\",\"D\",\"E\"]\n",
    "G2 = combinaisonsString(L, 2)\n",
    "print(\"G4 =\" , G4)\n",
    "print(\"G3 =\" , G3)\n",
    "print(\"G2 =\" , G2)"
   ]
  },
  {
   "cell_type": "code",
   "execution_count": 17,
   "metadata": {},
   "outputs": [],
   "source": [
    "def combinaisonsNumber(L, N):\n",
    "    h = 0\n",
    "    i = 0\n",
    "    j = 0\n",
    "    n = [0] * (N - 1)\n",
    "    G = []\n",
    "    s = []\n",
    "    k = len(L)-N\n",
    "    if len(L) < N:\n",
    "        return G\n",
    "    elif N == 1:\n",
    "        return L\n",
    "    elif len(L) == N:\n",
    "        while i < len(L):\n",
    "            s.append( L[i] )\n",
    "            i = i + 1\n",
    "        G.append(s)\n",
    "        #print (\"G1:\",G)\n",
    "    elif len(L) > N:\n",
    "        l = factorielle(len(L) - 1)/(factorielle(N - 1)\n",
    "             * factorielle((len(L) - 1) - (N - 1)));\n",
    "        #print (\"l:\", l)\n",
    "        while i < l:\n",
    "            #print (\"s:\", s)\n",
    "            s=[]\n",
    "            s.append (L[len(L) - 1])\n",
    "            while h < len(n):\n",
    "                if j > 0 and j < len(n):\n",
    "                    n[j] = n[j - 1] + 1\n",
    "                s.append(L[n[h]])\n",
    "                h = h + 1\n",
    "                j = j + 1\n",
    "            G.append(s)\n",
    "            #print (\"N et G2 :\",N, G)\n",
    "            h = 0\n",
    "            j = 0\n",
    "            while j < len(n) and n[j] != j + k:\n",
    "                j = j + 1\n",
    "            if j > 0:\n",
    "                n[j - 1] = n[j - 1] + 1\n",
    "            i = i + 1\n",
    "        L.pop()\n",
    "        G = G + combinaisonsNumber(L, N)\n",
    "    return G\n",
    "\n",
    "\n"
   ]
  },
  {
   "cell_type": "code",
   "execution_count": 22,
   "metadata": {},
   "outputs": [
    {
     "name": "stdout",
     "output_type": "stream",
     "text": [
      "Z1 = [1, 2, 3, 4, 5]\n",
      "Z2 = [[5, 1], [5, 2], [5, 3], [5, 4], [4, 1], [4, 2], [4, 3], [3, 1], [3, 2], [1, 2]]\n",
      "Z3 = [[5, 1, 2], [5, 1, 3], [5, 1, 4], [5, 2, 3], [5, 2, 4], [5, 3, 4], [4, 1, 2], [4, 1, 3], [4, 2, 3], [1, 2, 3]]\n"
     ]
    }
   ],
   "source": [
    "Ln = [1, 2, 3, 4, 5]\n",
    "Z1 = combinaisonsNumber(Ln, 1)\n",
    "Ln = [1, 2, 3, 4, 5]\n",
    "Z2 = combinaisonsNumber(Ln, 2)\n",
    "Ln = [1, 2, 3, 4, 5]\n",
    "Z3 = combinaisonsNumber(Ln, 3)\n",
    "print(\"Z1 =\" , Z1)\n",
    "print(\"Z2 =\" , Z2)\n",
    "print(\"Z3 =\" , Z3)\n"
   ]
  },
  {
   "cell_type": "code",
   "execution_count": 25,
   "metadata": {},
   "outputs": [
    {
     "name": "stdout",
     "output_type": "stream",
     "text": [
      "['EDCBA', 'AEDC', 'AEDB', 'AECB', 'ADCB', 'EDCB', 'AED', 'AEC', 'AEB', 'ADC', 'ADB', 'ACB', 'BED', 'BEC', 'BDC', 'EDC', 'AE', 'AD', 'AC', 'AB', 'BE', 'BD', 'BC', 'CE', 'CD', 'ED', 'E', 'D', 'C', 'B', 'A']\n"
     ]
    }
   ],
   "source": [
    "def allcombiString (List):\n",
    "    res = []\n",
    "    x = len(List)\n",
    "    while x > 0:        \n",
    "        L = []\n",
    "        y = len(List)\n",
    "        while y > 0:\n",
    "            L.append(List[y-1])\n",
    "            y = y-1\n",
    "        res.extend( combinaisonsString(L, x))\n",
    "        x = x-1\n",
    "    return res\n",
    "\n",
    "print (allcombiString([\"A\",\"B\",\"C\",\"D\",\"E\"]))"
   ]
  },
  {
   "cell_type": "code",
   "execution_count": 29,
   "metadata": {},
   "outputs": [
    {
     "name": "stdout",
     "output_type": "stream",
     "text": [
      "[[5, 4, 3, 2, 1]]\n",
      "[[1, 5, 4, 3], [1, 5, 4, 2], [1, 5, 3, 2], [1, 4, 3, 2], [5, 4, 3, 2]]\n",
      "[[1, 5, 4], [1, 5, 3], [1, 5, 2], [1, 4, 3], [1, 4, 2], [1, 3, 2], [2, 5, 4], [2, 5, 3], [2, 4, 3], [5, 4, 3]]\n",
      "[[1, 5], [1, 4], [1, 3], [1, 2], [2, 5], [2, 4], [2, 3], [3, 5], [3, 4], [5, 4]]\n",
      "[5, 4, 3, 2, 1]\n",
      "combi 12345 :  [[5, 4, 3, 2, 1], [5, 4, 3, 2], [5, 4, 3], [5, 4], 5, 4, 3, 2, 1]\n"
     ]
    }
   ],
   "source": [
    "def allcombiNumber (List):\n",
    "    res = []\n",
    "    x = len(List)\n",
    "    while x > 0:        \n",
    "        L = []\n",
    "        y = len(List)\n",
    "        while y > 0:\n",
    "            L.append(List[y-1])\n",
    "            y = y-1\n",
    "        print (combinaisonsNumber(L, x))\n",
    "        res.extend( combinaisonsNumber(L, x))\n",
    "        x = x-1\n",
    "    return res\n",
    "\n",
    "\n",
    "print (\"combi 12345 : \", allcombiNumber([1, 2, 3, 4, 5]))"
   ]
  },
  {
   "cell_type": "code",
   "execution_count": 41,
   "metadata": {},
   "outputs": [],
   "source": [
    "\n",
    "def sumL (L):\n",
    "    res = 0\n",
    "    if type(L) == int or type(L) == int:\n",
    "        res = L\n",
    "        #print (\"number\")\n",
    "    elif type(L) == list:\n",
    "        x = L[0]\n",
    "        if type(x) == int or type(x) == int:\n",
    "            #print (\"list de nbres\")\n",
    "            n = len(L)\n",
    "            while n>0:\n",
    "                res += L[n-1]\n",
    "                n -= 1\n",
    "        else :\n",
    "           res = sumL\n",
    "    else :\n",
    "        try:\n",
    "            print(x)\n",
    "        except:\n",
    "            print(\"An exception occurred\")\n",
    "    return res"
   ]
  },
  {
   "cell_type": "code",
   "execution_count": 42,
   "metadata": {},
   "outputs": [
    {
     "name": "stdout",
     "output_type": "stream",
     "text": [
      "1\n",
      "1\n",
      "6\n",
      "An exception occurred\n",
      "0\n"
     ]
    }
   ],
   "source": [
    "\n",
    "print(sumL (1))\n",
    "print(sumL ([1]))\n",
    "print(sumL ([1, 2, 3]))\n",
    "print(sumL (\"jkj\"))"
   ]
  },
  {
   "cell_type": "code",
   "execution_count": 43,
   "metadata": {},
   "outputs": [
    {
     "name": "stdout",
     "output_type": "stream",
     "text": [
      "[4, 3, 2, 1] 10\n",
      "[4, 3, 2] 9\n",
      "[1, 3, 2] 6\n",
      "[1, 4, 2] 7\n",
      "[1, 4, 3] 8\n",
      "[4, 3] 7\n",
      "[2, 3] 5\n",
      "[2, 4] 6\n",
      "[1, 2] 3\n",
      "[1, 3] 4\n",
      "[1, 4] 5\n",
      "1 1\n",
      "2 2\n",
      "3 3\n",
      "4 4\n"
     ]
    }
   ],
   "source": [
    "\n",
    "def AllSumPossible (List):\n",
    "    res = []\n",
    "    x = len(List)\n",
    "    while x > 0:   \n",
    "        y = len(List)\n",
    "        #print (y)\n",
    "        L = []\n",
    "        while y > 0:\n",
    "            L.append(List[y-1])\n",
    "            y = y-1\n",
    "        #print (L)\n",
    "        res = (combinaisonsNumber(L, x))\n",
    "        #print (res)\n",
    "        z = len(res)\n",
    "        while z > 0:\n",
    "            data = res[z-1]\n",
    "            print (data, sumL(data))\n",
    "            z = z-1\n",
    "        x = x-1\n",
    "    \n",
    "AllSumPossible([1, 2, 3, 4])\n"
   ]
  },
  {
   "cell_type": "code",
   "execution_count": 38,
   "metadata": {},
   "outputs": [
    {
     "name": "stdout",
     "output_type": "stream",
     "text": [
      "4\n",
      "4\n",
      "4\n",
      "4\n",
      "4\n"
     ]
    }
   ],
   "source": [
    "\n",
    "AllSumPossible([1, 2, 3, 4])\n",
    "\n"
   ]
  },
  {
   "cell_type": "code",
   "execution_count": null,
   "metadata": {},
   "outputs": [],
   "source": []
  }
 ],
 "metadata": {
  "kernelspec": {
   "display_name": "Python 3",
   "language": "python",
   "name": "python3"
  },
  "language_info": {
   "codemirror_mode": {
    "name": "ipython",
    "version": 3
   },
   "file_extension": ".py",
   "mimetype": "text/x-python",
   "name": "python",
   "nbconvert_exporter": "python",
   "pygments_lexer": "ipython3",
   "version": "3.8.5"
  }
 },
 "nbformat": 4,
 "nbformat_minor": 4
}
