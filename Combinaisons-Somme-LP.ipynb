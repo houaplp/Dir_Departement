{
 "cells": [
  {
   "cell_type": "code",
   "execution_count": 51,
   "metadata": {},
   "outputs": [],
   "source": [
    "def combssrepet (L, n):\n",
    "    Lres = []\n",
    "    if n == 1 :\n",
    "        for j in range (len(L)):            \n",
    "            Ltemp = []\n",
    "            Ltemp.append(L[j])\n",
    "            Lres.append(Ltemp)\n",
    "    else :\n",
    "        for i in range (len(L) - (n-1) ):\n",
    "        #for i in range (4):\n",
    "            x = L[0]\n",
    "            del L[0]\n",
    "            L2 = L[:]\n",
    "            #print (\"x - L:\" , x, \"/\" , L , \"----------\")\n",
    "            Ltemp = combssrepet (L2, n-1)\n",
    "            #print (\"Ltemp:\" , Ltemp)\n",
    "            for j in range (len(Ltemp)):\n",
    "                Ltemp2 = Ltemp[j]\n",
    "                Ltemp2.append (x)\n",
    "                Lres.append(Ltemp2)\n",
    "    return Lres\n",
    "        "
   ]
  },
  {
   "cell_type": "code",
   "execution_count": 53,
   "metadata": {},
   "outputs": [
    {
     "data": {
      "text/plain": [
       "[[4, 3, 2, 1], [5, 3, 2, 1], [5, 4, 2, 1], [5, 4, 3, 1], [5, 4, 3, 2]]"
      ]
     },
     "execution_count": 53,
     "metadata": {},
     "output_type": "execute_result"
    }
   ],
   "source": [
    "\n",
    "combssrepet ([1, 2, 3, 4, 5], 4)\n"
   ]
  },
  {
   "cell_type": "code",
   "execution_count": 54,
   "metadata": {},
   "outputs": [],
   "source": [
    "def combssrepetString (L, n):     \n",
    "    s = \"\"\n",
    "    Lres = []\n",
    "    if n == 1 :\n",
    "        for j in range (len(L)):       \n",
    "            Lres.append(str(L[j]))\n",
    "    else :\n",
    "        for i in range (len(L) - (n-1) ):\n",
    "        #for i in range (4):\n",
    "            x = str(L[0])\n",
    "            del L[0]\n",
    "            L2 = L[:]\n",
    "            #print (\"x - L:\" , x, \"/\" , L , \"----------\")\n",
    "            Ltemp = combssrepetString (L2, n-1)\n",
    "            #print (\"Ltemp:\" , Ltemp)\n",
    "            for j in range (len(Ltemp)):\n",
    "                Ltemp2 = Ltemp[j]\n",
    "                #print (\"Ltemp2\" , Ltemp2)\n",
    "                s = x + Ltemp2\n",
    "                Lres.append(s)\n",
    "    return Lres\n",
    "\n"
   ]
  },
  {
   "cell_type": "code",
   "execution_count": 55,
   "metadata": {},
   "outputs": [
    {
     "name": "stdout",
     "output_type": "stream",
     "text": [
      "['A', 'B', 'C', 'D', 'E']\n",
      "['AB', 'AC', 'AD', 'AE', 'BC', 'BD', 'BE', 'CD', 'CE', 'DE']\n",
      "['ABC', 'ABD', 'ABE', 'ACD', 'ACE', 'ADE', 'BCD', 'BCE', 'BDE', 'CDE']\n",
      "['123', '124', '125', '134', '135', '145', '234', '235', '245', '345']\n"
     ]
    }
   ],
   "source": [
    "print (combssrepetString ([\"A\", \"B\", \"C\", \"D\", \"E\"], 1))\n",
    "print (combssrepetString ([\"A\", \"B\", \"C\", \"D\", \"E\"], 2))\n",
    "print (combssrepetString ([\"A\", \"B\", \"C\", \"D\", \"E\"], 3))\n",
    "print (combssrepetString ([1, 2, 3, 4, 5], 3))"
   ]
  },
  {
   "cell_type": "code",
   "execution_count": 56,
   "metadata": {},
   "outputs": [],
   "source": [
    "def sumL (L):\n",
    "    res = 0\n",
    "    if type(L) == int or type(L) == float:\n",
    "        res = L\n",
    "        #print (\"number\")\n",
    "    elif type(L) == list:\n",
    "        x = L[0]\n",
    "        if type(x) == int or type(x) == float:\n",
    "            #print (\"list de nbres\")\n",
    "            n = len(L)\n",
    "            while n>0:\n",
    "                res += L[n-1]\n",
    "                n -= 1\n",
    "        else :\n",
    "           res = sumL\n",
    "    else :\n",
    "        try:\n",
    "            print(x)\n",
    "        except:\n",
    "            print(\"An exception occurred\")\n",
    "    return res"
   ]
  },
  {
   "cell_type": "code",
   "execution_count": 57,
   "metadata": {},
   "outputs": [
    {
     "name": "stdout",
     "output_type": "stream",
     "text": [
      "1.0\n",
      "1\n",
      "6.2\n",
      "An exception occurred\n",
      "0\n"
     ]
    }
   ],
   "source": [
    "print(sumL (1.0))\n",
    "print(sumL ([1]))\n",
    "print(sumL ([1, 2.2, 3]))\n",
    "print(sumL (\"jkj\"))"
   ]
  },
  {
   "cell_type": "code",
   "execution_count": 60,
   "metadata": {},
   "outputs": [],
   "source": [
    "def AllSumPossible (List):\n",
    "    res = []\n",
    "    x = len(List)\n",
    "    while x > 0:   \n",
    "        y = len(List)\n",
    "        #print (y)\n",
    "        L = []\n",
    "        while y > 0:\n",
    "            L.append(List[y-1])\n",
    "            y = y-1\n",
    "        #print (L)\n",
    "        res = (combssrepet(L, x))\n",
    "        #print (res)\n",
    "        z = len(res)\n",
    "        while z > 0:\n",
    "            data = res[z-1]\n",
    "            print (data, \">>>\", sumL(data))\n",
    "            z = z-1\n",
    "        x = x-1\n",
    "    "
   ]
  },
  {
   "cell_type": "code",
   "execution_count": 61,
   "metadata": {},
   "outputs": [
    {
     "name": "stdout",
     "output_type": "stream",
     "text": [
      "[1.1, 2, 3, 4] >>> 10.1\n",
      "[1.1, 2, 3] >>> 6.1\n",
      "[1.1, 2, 4] >>> 7.1\n",
      "[1.1, 3, 4] >>> 8.1\n",
      "[2, 3, 4] >>> 9\n",
      "[1.1, 2] >>> 3.1\n",
      "[1.1, 3] >>> 4.1\n",
      "[2, 3] >>> 5\n",
      "[1.1, 4] >>> 5.1\n",
      "[2, 4] >>> 6\n",
      "[3, 4] >>> 7\n",
      "[1.1] >>> 1.1\n",
      "[2] >>> 2\n",
      "[3] >>> 3\n",
      "[4] >>> 4\n"
     ]
    }
   ],
   "source": [
    "\n",
    "AllSumPossible([1.1, 2, 3, 4])\n"
   ]
  }
 ],
 "metadata": {
  "kernelspec": {
   "display_name": "Python 3",
   "language": "python",
   "name": "python3"
  },
  "language_info": {
   "codemirror_mode": {
    "name": "ipython",
    "version": 3
   },
   "file_extension": ".py",
   "mimetype": "text/x-python",
   "name": "python",
   "nbconvert_exporter": "python",
   "pygments_lexer": "ipython3",
   "version": "3.8.5"
  }
 },
 "nbformat": 4,
 "nbformat_minor": 4
}
